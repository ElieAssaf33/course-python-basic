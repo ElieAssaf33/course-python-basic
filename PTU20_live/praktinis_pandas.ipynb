{
 "cells": [
  {
   "cell_type": "code",
   "execution_count": 2,
   "metadata": {},
   "outputs": [
    {
     "name": "stderr",
     "output_type": "stream",
     "text": [
      "/var/folders/46/76ys_7h50b9_n3_l1f4m1h8r0000gn/T/ipykernel_21051/2162656668.py:1: DeprecationWarning: \n",
      "Pyarrow will become a required dependency of pandas in the next major release of pandas (pandas 3.0),\n",
      "(to allow more performant data types, such as the Arrow string type, and better interoperability with other libraries)\n",
      "but was not found to be installed on your system.\n",
      "If this would cause problems for you,\n",
      "please provide us feedback at https://github.com/pandas-dev/pandas/issues/54466\n",
      "        \n",
      "  import pandas as pd\n"
     ]
    }
   ],
   "source": [
    "import pandas as pd\n",
    "import numpy as np"
   ]
  },
  {
   "cell_type": "code",
   "execution_count": 3,
   "metadata": {},
   "outputs": [
    {
     "name": "stdout",
     "output_type": "stream",
     "text": [
      "('vardas', 'pavardė', 'amžius') ('Geras', 'Zmogelis', 33)\n"
     ]
    }
   ],
   "source": [
    "labels = ('vardas', 'pavardė', 'amžius')\n",
    "zmogus = ('Geras', 'Zmogelis', 33)\n",
    "print(labels, zmogus)"
   ]
  },
  {
   "cell_type": "code",
   "execution_count": 4,
   "metadata": {},
   "outputs": [
    {
     "data": {
      "text/plain": [
       "0       Geras\n",
       "1    Zmogelis\n",
       "2          33\n",
       "dtype: object"
      ]
     },
     "execution_count": 4,
     "metadata": {},
     "output_type": "execute_result"
    }
   ],
   "source": [
    "pd.Series(data=zmogus)"
   ]
  },
  {
   "cell_type": "code",
   "execution_count": 5,
   "metadata": {},
   "outputs": [
    {
     "data": {
      "text/plain": [
       "vardas        Geras\n",
       "pavardė    Zmogelis\n",
       "amžius           33\n",
       "dtype: object"
      ]
     },
     "execution_count": 5,
     "metadata": {},
     "output_type": "execute_result"
    }
   ],
   "source": [
    "pd.Series(data=zmogus, index=labels)"
   ]
  },
  {
   "cell_type": "code",
   "execution_count": 6,
   "metadata": {},
   "outputs": [
    {
     "data": {
      "text/plain": [
       "{'vardas': 'Smagus', 'pavarde': 'Giedriukas', 'amzius': 36}"
      ]
     },
     "execution_count": 6,
     "metadata": {},
     "output_type": "execute_result"
    }
   ],
   "source": [
    "zmogus_dict = {\n",
    "    'vardas': 'Smagus',\n",
    "    'pavarde': 'Giedriukas',\n",
    "    'amzius': 36\n",
    "}\n",
    "zmogus_dict"
   ]
  },
  {
   "cell_type": "code",
   "execution_count": 7,
   "metadata": {},
   "outputs": [
    {
     "data": {
      "text/plain": [
       "vardas         Smagus\n",
       "pavarde    Giedriukas\n",
       "amzius             36\n",
       "dtype: object"
      ]
     },
     "execution_count": 7,
     "metadata": {},
     "output_type": "execute_result"
    }
   ],
   "source": [
    "zmogus_pd = pd.Series(zmogus_dict)\n",
    "zmogus_pd"
   ]
  },
  {
   "cell_type": "code",
   "execution_count": 8,
   "metadata": {},
   "outputs": [
    {
     "data": {
      "text/plain": [
       "vardas        Geras\n",
       "pavardė    Zmogelis\n",
       "amžius           33\n",
       "dtype: object"
      ]
     },
     "execution_count": 8,
     "metadata": {},
     "output_type": "execute_result"
    }
   ],
   "source": [
    "pd.Series(zmogus, labels)"
   ]
  },
  {
   "cell_type": "code",
   "execution_count": 9,
   "metadata": {},
   "outputs": [
    {
     "data": {
      "text/plain": [
       "36"
      ]
     },
     "execution_count": 9,
     "metadata": {},
     "output_type": "execute_result"
    }
   ],
   "source": [
    "zmogus_pd['amzius']"
   ]
  },
  {
   "cell_type": "code",
   "execution_count": 10,
   "metadata": {},
   "outputs": [
    {
     "data": {
      "text/plain": [
       "Vilnius     500\n",
       "Kaunas      400\n",
       "Klaipeda    300\n",
       "Siauliai    200\n",
       "dtype: int64"
      ]
     },
     "execution_count": 10,
     "metadata": {},
     "output_type": "execute_result"
    }
   ],
   "source": [
    "miestai = pd.Series((500, 400, 300, 200), ('Vilnius', 'Kaunas', 'Klaipeda', 'Siauliai'))\n",
    "miestai"
   ]
  },
  {
   "cell_type": "code",
   "execution_count": 11,
   "metadata": {},
   "outputs": [
    {
     "data": {
      "text/plain": [
       "Vilnius     1.5\n",
       "Kaunas      1.3\n",
       "Klaipeda    0.9\n",
       "Siauliai    0.7\n",
       "dtype: float64"
      ]
     },
     "execution_count": 11,
     "metadata": {},
     "output_type": "execute_result"
    }
   ],
   "source": [
    "augimas = pd.Series((1.5, 1.3, 0.9, 0.7), ('Vilnius', 'Kaunas', 'Klaipeda', 'Siauliai'))\n",
    "augimas"
   ]
  },
  {
   "cell_type": "code",
   "execution_count": 12,
   "metadata": {},
   "outputs": [
    {
     "data": {
      "text/plain": [
       "Vilnius     750.0\n",
       "Kaunas      520.0\n",
       "Klaipeda    270.0\n",
       "Siauliai    140.0\n",
       "dtype: float64"
      ]
     },
     "execution_count": 12,
     "metadata": {},
     "output_type": "execute_result"
    }
   ],
   "source": [
    "miestai * augimas"
   ]
  },
  {
   "cell_type": "code",
   "execution_count": 13,
   "metadata": {},
   "outputs": [
    {
     "data": {
      "text/plain": [
       "array([[14, 82, 29, 14, 32, 72, 78],\n",
       "       [75, 66, 56, 47, 55, 98, 68],\n",
       "       [44, 51, 38, 39, 49, 21, 45],\n",
       "       [79, 56, 59, 70, 96, 50, 43],\n",
       "       [15, 53, 58, 40, 39, 38, 78],\n",
       "       [57, 52, 13, 87, 76, 95, 74],\n",
       "       [40, 55, 91, 36, 27, 92, 10]])"
      ]
     },
     "execution_count": 13,
     "metadata": {},
     "output_type": "execute_result"
    }
   ],
   "source": [
    "betko7x7 = np.random.randint(10, 100, (7, 7))\n",
    "betko7x7"
   ]
  },
  {
   "cell_type": "code",
   "execution_count": 14,
   "metadata": {},
   "outputs": [
    {
     "data": {
      "text/html": [
       "<div>\n",
       "<style scoped>\n",
       "    .dataframe tbody tr th:only-of-type {\n",
       "        vertical-align: middle;\n",
       "    }\n",
       "\n",
       "    .dataframe tbody tr th {\n",
       "        vertical-align: top;\n",
       "    }\n",
       "\n",
       "    .dataframe thead th {\n",
       "        text-align: right;\n",
       "    }\n",
       "</style>\n",
       "<table border=\"1\" class=\"dataframe\">\n",
       "  <thead>\n",
       "    <tr style=\"text-align: right;\">\n",
       "      <th></th>\n",
       "      <th>Vilnius</th>\n",
       "      <th>Kaunas</th>\n",
       "      <th>Klaipeda</th>\n",
       "      <th>Siauliai</th>\n",
       "      <th>Panevezys</th>\n",
       "      <th>Alytus</th>\n",
       "      <th>Druskininkai</th>\n",
       "    </tr>\n",
       "  </thead>\n",
       "  <tbody>\n",
       "    <tr>\n",
       "      <th>2000</th>\n",
       "      <td>14</td>\n",
       "      <td>82</td>\n",
       "      <td>29</td>\n",
       "      <td>14</td>\n",
       "      <td>32</td>\n",
       "      <td>72</td>\n",
       "      <td>78</td>\n",
       "    </tr>\n",
       "    <tr>\n",
       "      <th>2004</th>\n",
       "      <td>75</td>\n",
       "      <td>66</td>\n",
       "      <td>56</td>\n",
       "      <td>47</td>\n",
       "      <td>55</td>\n",
       "      <td>98</td>\n",
       "      <td>68</td>\n",
       "    </tr>\n",
       "    <tr>\n",
       "      <th>2008</th>\n",
       "      <td>44</td>\n",
       "      <td>51</td>\n",
       "      <td>38</td>\n",
       "      <td>39</td>\n",
       "      <td>49</td>\n",
       "      <td>21</td>\n",
       "      <td>45</td>\n",
       "    </tr>\n",
       "    <tr>\n",
       "      <th>2012</th>\n",
       "      <td>79</td>\n",
       "      <td>56</td>\n",
       "      <td>59</td>\n",
       "      <td>70</td>\n",
       "      <td>96</td>\n",
       "      <td>50</td>\n",
       "      <td>43</td>\n",
       "    </tr>\n",
       "    <tr>\n",
       "      <th>2016</th>\n",
       "      <td>15</td>\n",
       "      <td>53</td>\n",
       "      <td>58</td>\n",
       "      <td>40</td>\n",
       "      <td>39</td>\n",
       "      <td>38</td>\n",
       "      <td>78</td>\n",
       "    </tr>\n",
       "    <tr>\n",
       "      <th>2020</th>\n",
       "      <td>57</td>\n",
       "      <td>52</td>\n",
       "      <td>13</td>\n",
       "      <td>87</td>\n",
       "      <td>76</td>\n",
       "      <td>95</td>\n",
       "      <td>74</td>\n",
       "    </tr>\n",
       "    <tr>\n",
       "      <th>2024</th>\n",
       "      <td>40</td>\n",
       "      <td>55</td>\n",
       "      <td>91</td>\n",
       "      <td>36</td>\n",
       "      <td>27</td>\n",
       "      <td>92</td>\n",
       "      <td>10</td>\n",
       "    </tr>\n",
       "  </tbody>\n",
       "</table>\n",
       "</div>"
      ],
      "text/plain": [
       "      Vilnius  Kaunas  Klaipeda  Siauliai  Panevezys  Alytus  Druskininkai\n",
       "2000       14      82        29        14         32      72            78\n",
       "2004       75      66        56        47         55      98            68\n",
       "2008       44      51        38        39         49      21            45\n",
       "2012       79      56        59        70         96      50            43\n",
       "2016       15      53        58        40         39      38            78\n",
       "2020       57      52        13        87         76      95            74\n",
       "2024       40      55        91        36         27      92            10"
      ]
     },
     "execution_count": 14,
     "metadata": {},
     "output_type": "execute_result"
    }
   ],
   "source": [
    "miestu_skaiciai = pd.DataFrame(\n",
    "    betko7x7,\n",
    "    [2000, 2004, 2008, 2012, 2016, 2020, 2024],\n",
    "    ['Vilnius', 'Kaunas', 'Klaipeda', 'Siauliai', 'Panevezys', 'Alytus', 'Druskininkai']\n",
    ")\n",
    "miestu_skaiciai"
   ]
  },
  {
   "cell_type": "code",
   "execution_count": 15,
   "metadata": {},
   "outputs": [
    {
     "data": {
      "text/plain": [
       "2000    29\n",
       "2004    56\n",
       "2008    38\n",
       "2012    59\n",
       "2016    58\n",
       "2020    13\n",
       "2024    91\n",
       "Name: Klaipeda, dtype: int64"
      ]
     },
     "execution_count": 15,
     "metadata": {},
     "output_type": "execute_result"
    }
   ],
   "source": [
    "miestu_skaiciai['Klaipeda']"
   ]
  },
  {
   "cell_type": "code",
   "execution_count": 16,
   "metadata": {},
   "outputs": [
    {
     "name": "stdout",
     "output_type": "stream",
     "text": [
      "<class 'pandas.core.series.Series'>\n",
      "<class 'pandas.core.frame.DataFrame'>\n"
     ]
    }
   ],
   "source": [
    "print(type(miestu_skaiciai['Klaipeda']))\n",
    "print(type(miestu_skaiciai))"
   ]
  },
  {
   "cell_type": "code",
   "execution_count": 17,
   "metadata": {},
   "outputs": [
    {
     "data": {
      "text/html": [
       "<div>\n",
       "<style scoped>\n",
       "    .dataframe tbody tr th:only-of-type {\n",
       "        vertical-align: middle;\n",
       "    }\n",
       "\n",
       "    .dataframe tbody tr th {\n",
       "        vertical-align: top;\n",
       "    }\n",
       "\n",
       "    .dataframe thead th {\n",
       "        text-align: right;\n",
       "    }\n",
       "</style>\n",
       "<table border=\"1\" class=\"dataframe\">\n",
       "  <thead>\n",
       "    <tr style=\"text-align: right;\">\n",
       "      <th></th>\n",
       "      <th>Vilnius</th>\n",
       "      <th>Alytus</th>\n",
       "      <th>Druskininkai</th>\n",
       "    </tr>\n",
       "  </thead>\n",
       "  <tbody>\n",
       "    <tr>\n",
       "      <th>2000</th>\n",
       "      <td>14</td>\n",
       "      <td>72</td>\n",
       "      <td>78</td>\n",
       "    </tr>\n",
       "    <tr>\n",
       "      <th>2004</th>\n",
       "      <td>75</td>\n",
       "      <td>98</td>\n",
       "      <td>68</td>\n",
       "    </tr>\n",
       "    <tr>\n",
       "      <th>2008</th>\n",
       "      <td>44</td>\n",
       "      <td>21</td>\n",
       "      <td>45</td>\n",
       "    </tr>\n",
       "    <tr>\n",
       "      <th>2012</th>\n",
       "      <td>79</td>\n",
       "      <td>50</td>\n",
       "      <td>43</td>\n",
       "    </tr>\n",
       "    <tr>\n",
       "      <th>2016</th>\n",
       "      <td>15</td>\n",
       "      <td>38</td>\n",
       "      <td>78</td>\n",
       "    </tr>\n",
       "    <tr>\n",
       "      <th>2020</th>\n",
       "      <td>57</td>\n",
       "      <td>95</td>\n",
       "      <td>74</td>\n",
       "    </tr>\n",
       "    <tr>\n",
       "      <th>2024</th>\n",
       "      <td>40</td>\n",
       "      <td>92</td>\n",
       "      <td>10</td>\n",
       "    </tr>\n",
       "  </tbody>\n",
       "</table>\n",
       "</div>"
      ],
      "text/plain": [
       "      Vilnius  Alytus  Druskininkai\n",
       "2000       14      72            78\n",
       "2004       75      98            68\n",
       "2008       44      21            45\n",
       "2012       79      50            43\n",
       "2016       15      38            78\n",
       "2020       57      95            74\n",
       "2024       40      92            10"
      ]
     },
     "execution_count": 17,
     "metadata": {},
     "output_type": "execute_result"
    }
   ],
   "source": [
    "miestu_skaiciai[['Vilnius', 'Alytus', 'Druskininkai']]"
   ]
  },
  {
   "cell_type": "code",
   "execution_count": 18,
   "metadata": {},
   "outputs": [
    {
     "name": "stderr",
     "output_type": "stream",
     "text": [
      "/var/folders/46/76ys_7h50b9_n3_l1f4m1h8r0000gn/T/ipykernel_21051/2762690240.py:1: FutureWarning: ChainedAssignmentError: behaviour will change in pandas 3.0!\n",
      "You are setting values through chained assignment. Currently this works in certain cases, but when using Copy-on-Write (which will become the default behaviour in pandas 3.0) this will never work to update the original DataFrame or Series, because the intermediate object on which we are setting values will behave as a copy.\n",
      "A typical example is when you are setting values in a column of a DataFrame, like:\n",
      "\n",
      "df[\"col\"][row_indexer] = value\n",
      "\n",
      "Use `df.loc[row_indexer, \"col\"] = values` instead, to perform the assignment in a single step and ensure this keeps updating the original `df`.\n",
      "\n",
      "See the caveats in the documentation: https://pandas.pydata.org/pandas-docs/stable/user_guide/indexing.html#returning-a-view-versus-a-copy\n",
      "\n",
      "  miestu_skaiciai['Vilnius'][2000] = 99\n"
     ]
    },
    {
     "data": {
      "text/plain": [
       "99"
      ]
     },
     "execution_count": 18,
     "metadata": {},
     "output_type": "execute_result"
    }
   ],
   "source": [
    "miestu_skaiciai['Vilnius'][2000] = 99\n",
    "miestu_skaiciai['Vilnius'][2000]"
   ]
  },
  {
   "cell_type": "code",
   "execution_count": 19,
   "metadata": {},
   "outputs": [
    {
     "data": {
      "text/plain": [
       "Vilnius         79\n",
       "Kaunas          56\n",
       "Klaipeda        59\n",
       "Siauliai        70\n",
       "Panevezys       96\n",
       "Alytus          50\n",
       "Druskininkai    43\n",
       "Name: 2012, dtype: int64"
      ]
     },
     "execution_count": 19,
     "metadata": {},
     "output_type": "execute_result"
    }
   ],
   "source": [
    "miestu_skaiciai.loc[2012]"
   ]
  },
  {
   "cell_type": "code",
   "execution_count": 20,
   "metadata": {},
   "outputs": [
    {
     "data": {
      "text/plain": [
       "2000    13\n",
       "2004    48\n",
       "2008    18\n",
       "2012    35\n",
       "2016    77\n",
       "2020    69\n",
       "2024    20\n",
       "dtype: int64"
      ]
     },
     "execution_count": 20,
     "metadata": {},
     "output_type": "execute_result"
    }
   ],
   "source": [
    "kazluruda = pd.Series(np.random.randint(10, 99, 7), np.arange(2000, 2025, 4))\n",
    "kazluruda"
   ]
  },
  {
   "cell_type": "code",
   "execution_count": 21,
   "metadata": {},
   "outputs": [
    {
     "data": {
      "text/html": [
       "<div>\n",
       "<style scoped>\n",
       "    .dataframe tbody tr th:only-of-type {\n",
       "        vertical-align: middle;\n",
       "    }\n",
       "\n",
       "    .dataframe tbody tr th {\n",
       "        vertical-align: top;\n",
       "    }\n",
       "\n",
       "    .dataframe thead th {\n",
       "        text-align: right;\n",
       "    }\n",
       "</style>\n",
       "<table border=\"1\" class=\"dataframe\">\n",
       "  <thead>\n",
       "    <tr style=\"text-align: right;\">\n",
       "      <th></th>\n",
       "      <th>Vilnius</th>\n",
       "      <th>Kaunas</th>\n",
       "      <th>Klaipeda</th>\n",
       "      <th>Siauliai</th>\n",
       "      <th>Panevezys</th>\n",
       "      <th>Alytus</th>\n",
       "      <th>Druskininkai</th>\n",
       "      <th>Kazlu Ruda</th>\n",
       "    </tr>\n",
       "  </thead>\n",
       "  <tbody>\n",
       "    <tr>\n",
       "      <th>2000</th>\n",
       "      <td>99</td>\n",
       "      <td>82</td>\n",
       "      <td>29</td>\n",
       "      <td>14</td>\n",
       "      <td>32</td>\n",
       "      <td>72</td>\n",
       "      <td>78</td>\n",
       "      <td>13</td>\n",
       "    </tr>\n",
       "    <tr>\n",
       "      <th>2004</th>\n",
       "      <td>75</td>\n",
       "      <td>66</td>\n",
       "      <td>56</td>\n",
       "      <td>47</td>\n",
       "      <td>55</td>\n",
       "      <td>98</td>\n",
       "      <td>68</td>\n",
       "      <td>48</td>\n",
       "    </tr>\n",
       "    <tr>\n",
       "      <th>2008</th>\n",
       "      <td>44</td>\n",
       "      <td>51</td>\n",
       "      <td>38</td>\n",
       "      <td>39</td>\n",
       "      <td>49</td>\n",
       "      <td>21</td>\n",
       "      <td>45</td>\n",
       "      <td>18</td>\n",
       "    </tr>\n",
       "    <tr>\n",
       "      <th>2012</th>\n",
       "      <td>79</td>\n",
       "      <td>56</td>\n",
       "      <td>59</td>\n",
       "      <td>70</td>\n",
       "      <td>96</td>\n",
       "      <td>50</td>\n",
       "      <td>43</td>\n",
       "      <td>35</td>\n",
       "    </tr>\n",
       "    <tr>\n",
       "      <th>2016</th>\n",
       "      <td>15</td>\n",
       "      <td>53</td>\n",
       "      <td>58</td>\n",
       "      <td>40</td>\n",
       "      <td>39</td>\n",
       "      <td>38</td>\n",
       "      <td>78</td>\n",
       "      <td>77</td>\n",
       "    </tr>\n",
       "    <tr>\n",
       "      <th>2020</th>\n",
       "      <td>57</td>\n",
       "      <td>52</td>\n",
       "      <td>13</td>\n",
       "      <td>87</td>\n",
       "      <td>76</td>\n",
       "      <td>95</td>\n",
       "      <td>74</td>\n",
       "      <td>69</td>\n",
       "    </tr>\n",
       "    <tr>\n",
       "      <th>2024</th>\n",
       "      <td>40</td>\n",
       "      <td>55</td>\n",
       "      <td>91</td>\n",
       "      <td>36</td>\n",
       "      <td>27</td>\n",
       "      <td>92</td>\n",
       "      <td>10</td>\n",
       "      <td>20</td>\n",
       "    </tr>\n",
       "  </tbody>\n",
       "</table>\n",
       "</div>"
      ],
      "text/plain": [
       "      Vilnius  Kaunas  Klaipeda  Siauliai  Panevezys  Alytus  Druskininkai  \\\n",
       "2000       99      82        29        14         32      72            78   \n",
       "2004       75      66        56        47         55      98            68   \n",
       "2008       44      51        38        39         49      21            45   \n",
       "2012       79      56        59        70         96      50            43   \n",
       "2016       15      53        58        40         39      38            78   \n",
       "2020       57      52        13        87         76      95            74   \n",
       "2024       40      55        91        36         27      92            10   \n",
       "\n",
       "      Kazlu Ruda  \n",
       "2000          13  \n",
       "2004          48  \n",
       "2008          18  \n",
       "2012          35  \n",
       "2016          77  \n",
       "2020          69  \n",
       "2024          20  "
      ]
     },
     "execution_count": 21,
     "metadata": {},
     "output_type": "execute_result"
    }
   ],
   "source": [
    "miestu_skaiciai['Kazlu Ruda'] = kazluruda\n",
    "miestu_skaiciai"
   ]
  },
  {
   "cell_type": "code",
   "execution_count": 22,
   "metadata": {},
   "outputs": [],
   "source": [
    "miestu_skaiciai.drop('Siauliai', axis=1, inplace=True)"
   ]
  },
  {
   "cell_type": "code",
   "execution_count": 23,
   "metadata": {},
   "outputs": [
    {
     "data": {
      "text/html": [
       "<div>\n",
       "<style scoped>\n",
       "    .dataframe tbody tr th:only-of-type {\n",
       "        vertical-align: middle;\n",
       "    }\n",
       "\n",
       "    .dataframe tbody tr th {\n",
       "        vertical-align: top;\n",
       "    }\n",
       "\n",
       "    .dataframe thead th {\n",
       "        text-align: right;\n",
       "    }\n",
       "</style>\n",
       "<table border=\"1\" class=\"dataframe\">\n",
       "  <thead>\n",
       "    <tr style=\"text-align: right;\">\n",
       "      <th></th>\n",
       "      <th>Vilnius</th>\n",
       "      <th>Kaunas</th>\n",
       "      <th>Klaipeda</th>\n",
       "      <th>Panevezys</th>\n",
       "      <th>Alytus</th>\n",
       "      <th>Druskininkai</th>\n",
       "      <th>Kazlu Ruda</th>\n",
       "    </tr>\n",
       "  </thead>\n",
       "  <tbody>\n",
       "    <tr>\n",
       "      <th>2000</th>\n",
       "      <td>99</td>\n",
       "      <td>82</td>\n",
       "      <td>29</td>\n",
       "      <td>32</td>\n",
       "      <td>72</td>\n",
       "      <td>78</td>\n",
       "      <td>13</td>\n",
       "    </tr>\n",
       "    <tr>\n",
       "      <th>2004</th>\n",
       "      <td>75</td>\n",
       "      <td>66</td>\n",
       "      <td>56</td>\n",
       "      <td>55</td>\n",
       "      <td>98</td>\n",
       "      <td>68</td>\n",
       "      <td>48</td>\n",
       "    </tr>\n",
       "    <tr>\n",
       "      <th>2008</th>\n",
       "      <td>44</td>\n",
       "      <td>51</td>\n",
       "      <td>38</td>\n",
       "      <td>49</td>\n",
       "      <td>21</td>\n",
       "      <td>45</td>\n",
       "      <td>18</td>\n",
       "    </tr>\n",
       "    <tr>\n",
       "      <th>2012</th>\n",
       "      <td>79</td>\n",
       "      <td>56</td>\n",
       "      <td>59</td>\n",
       "      <td>96</td>\n",
       "      <td>50</td>\n",
       "      <td>43</td>\n",
       "      <td>35</td>\n",
       "    </tr>\n",
       "    <tr>\n",
       "      <th>2016</th>\n",
       "      <td>15</td>\n",
       "      <td>53</td>\n",
       "      <td>58</td>\n",
       "      <td>39</td>\n",
       "      <td>38</td>\n",
       "      <td>78</td>\n",
       "      <td>77</td>\n",
       "    </tr>\n",
       "    <tr>\n",
       "      <th>2020</th>\n",
       "      <td>57</td>\n",
       "      <td>52</td>\n",
       "      <td>13</td>\n",
       "      <td>76</td>\n",
       "      <td>95</td>\n",
       "      <td>74</td>\n",
       "      <td>69</td>\n",
       "    </tr>\n",
       "    <tr>\n",
       "      <th>2024</th>\n",
       "      <td>40</td>\n",
       "      <td>55</td>\n",
       "      <td>91</td>\n",
       "      <td>27</td>\n",
       "      <td>92</td>\n",
       "      <td>10</td>\n",
       "      <td>20</td>\n",
       "    </tr>\n",
       "  </tbody>\n",
       "</table>\n",
       "</div>"
      ],
      "text/plain": [
       "      Vilnius  Kaunas  Klaipeda  Panevezys  Alytus  Druskininkai  Kazlu Ruda\n",
       "2000       99      82        29         32      72            78          13\n",
       "2004       75      66        56         55      98            68          48\n",
       "2008       44      51        38         49      21            45          18\n",
       "2012       79      56        59         96      50            43          35\n",
       "2016       15      53        58         39      38            78          77\n",
       "2020       57      52        13         76      95            74          69\n",
       "2024       40      55        91         27      92            10          20"
      ]
     },
     "execution_count": 23,
     "metadata": {},
     "output_type": "execute_result"
    }
   ],
   "source": [
    "miestu_skaiciai"
   ]
  },
  {
   "cell_type": "code",
   "execution_count": 24,
   "metadata": {},
   "outputs": [
    {
     "data": {
      "text/html": [
       "<div>\n",
       "<style scoped>\n",
       "    .dataframe tbody tr th:only-of-type {\n",
       "        vertical-align: middle;\n",
       "    }\n",
       "\n",
       "    .dataframe tbody tr th {\n",
       "        vertical-align: top;\n",
       "    }\n",
       "\n",
       "    .dataframe thead th {\n",
       "        text-align: right;\n",
       "    }\n",
       "</style>\n",
       "<table border=\"1\" class=\"dataframe\">\n",
       "  <thead>\n",
       "    <tr style=\"text-align: right;\">\n",
       "      <th></th>\n",
       "      <th>Vilnius</th>\n",
       "      <th>Kaunas</th>\n",
       "      <th>Klaipeda</th>\n",
       "      <th>Panevezys</th>\n",
       "      <th>Alytus</th>\n",
       "      <th>Druskininkai</th>\n",
       "      <th>Kazlu Ruda</th>\n",
       "    </tr>\n",
       "  </thead>\n",
       "  <tbody>\n",
       "    <tr>\n",
       "      <th>2000</th>\n",
       "      <td>99</td>\n",
       "      <td>82</td>\n",
       "      <td>29</td>\n",
       "      <td>32</td>\n",
       "      <td>72</td>\n",
       "      <td>78</td>\n",
       "      <td>13</td>\n",
       "    </tr>\n",
       "    <tr>\n",
       "      <th>2004</th>\n",
       "      <td>75</td>\n",
       "      <td>66</td>\n",
       "      <td>56</td>\n",
       "      <td>55</td>\n",
       "      <td>98</td>\n",
       "      <td>68</td>\n",
       "      <td>48</td>\n",
       "    </tr>\n",
       "    <tr>\n",
       "      <th>2012</th>\n",
       "      <td>79</td>\n",
       "      <td>56</td>\n",
       "      <td>59</td>\n",
       "      <td>96</td>\n",
       "      <td>50</td>\n",
       "      <td>43</td>\n",
       "      <td>35</td>\n",
       "    </tr>\n",
       "    <tr>\n",
       "      <th>2016</th>\n",
       "      <td>15</td>\n",
       "      <td>53</td>\n",
       "      <td>58</td>\n",
       "      <td>39</td>\n",
       "      <td>38</td>\n",
       "      <td>78</td>\n",
       "      <td>77</td>\n",
       "    </tr>\n",
       "    <tr>\n",
       "      <th>2020</th>\n",
       "      <td>57</td>\n",
       "      <td>52</td>\n",
       "      <td>13</td>\n",
       "      <td>76</td>\n",
       "      <td>95</td>\n",
       "      <td>74</td>\n",
       "      <td>69</td>\n",
       "    </tr>\n",
       "    <tr>\n",
       "      <th>2024</th>\n",
       "      <td>40</td>\n",
       "      <td>55</td>\n",
       "      <td>91</td>\n",
       "      <td>27</td>\n",
       "      <td>92</td>\n",
       "      <td>10</td>\n",
       "      <td>20</td>\n",
       "    </tr>\n",
       "  </tbody>\n",
       "</table>\n",
       "</div>"
      ],
      "text/plain": [
       "      Vilnius  Kaunas  Klaipeda  Panevezys  Alytus  Druskininkai  Kazlu Ruda\n",
       "2000       99      82        29         32      72            78          13\n",
       "2004       75      66        56         55      98            68          48\n",
       "2012       79      56        59         96      50            43          35\n",
       "2016       15      53        58         39      38            78          77\n",
       "2020       57      52        13         76      95            74          69\n",
       "2024       40      55        91         27      92            10          20"
      ]
     },
     "execution_count": 24,
     "metadata": {},
     "output_type": "execute_result"
    }
   ],
   "source": [
    "miestai_be_2008 = miestu_skaiciai.drop(2008)\n",
    "miestai_be_2008"
   ]
  },
  {
   "cell_type": "code",
   "execution_count": 25,
   "metadata": {},
   "outputs": [
    {
     "data": {
      "text/plain": [
       "Vilnius         44\n",
       "Kaunas          51\n",
       "Klaipeda        38\n",
       "Panevezys       49\n",
       "Alytus          21\n",
       "Druskininkai    45\n",
       "Kazlu Ruda      18\n",
       "Name: 2008, dtype: int64"
      ]
     },
     "execution_count": 25,
     "metadata": {},
     "output_type": "execute_result"
    }
   ],
   "source": [
    "miestu_skaiciai.loc[2008]"
   ]
  },
  {
   "cell_type": "code",
   "execution_count": 26,
   "metadata": {},
   "outputs": [
    {
     "data": {
      "text/plain": [
       "Vilnius         79\n",
       "Kaunas          56\n",
       "Klaipeda        59\n",
       "Panevezys       96\n",
       "Alytus          50\n",
       "Druskininkai    43\n",
       "Kazlu Ruda      35\n",
       "Name: 2012, dtype: int64"
      ]
     },
     "execution_count": 26,
     "metadata": {},
     "output_type": "execute_result"
    }
   ],
   "source": [
    "miestu_skaiciai.iloc[3]"
   ]
  },
  {
   "cell_type": "code",
   "execution_count": 27,
   "metadata": {},
   "outputs": [
    {
     "data": {
      "text/plain": [
       "57"
      ]
     },
     "execution_count": 27,
     "metadata": {},
     "output_type": "execute_result"
    }
   ],
   "source": [
    "miestu_skaiciai['Vilnius'][2020]"
   ]
  },
  {
   "cell_type": "code",
   "execution_count": 28,
   "metadata": {},
   "outputs": [
    {
     "data": {
      "text/plain": [
       "57"
      ]
     },
     "execution_count": 28,
     "metadata": {},
     "output_type": "execute_result"
    }
   ],
   "source": [
    "miestu_skaiciai.loc[2020, 'Vilnius']"
   ]
  },
  {
   "cell_type": "code",
   "execution_count": 29,
   "metadata": {},
   "outputs": [
    {
     "data": {
      "text/html": [
       "<div>\n",
       "<style scoped>\n",
       "    .dataframe tbody tr th:only-of-type {\n",
       "        vertical-align: middle;\n",
       "    }\n",
       "\n",
       "    .dataframe tbody tr th {\n",
       "        vertical-align: top;\n",
       "    }\n",
       "\n",
       "    .dataframe thead th {\n",
       "        text-align: right;\n",
       "    }\n",
       "</style>\n",
       "<table border=\"1\" class=\"dataframe\">\n",
       "  <thead>\n",
       "    <tr style=\"text-align: right;\">\n",
       "      <th></th>\n",
       "      <th>Kaunas</th>\n",
       "      <th>Alytus</th>\n",
       "    </tr>\n",
       "  </thead>\n",
       "  <tbody>\n",
       "    <tr>\n",
       "      <th>2012</th>\n",
       "      <td>56</td>\n",
       "      <td>50</td>\n",
       "    </tr>\n",
       "    <tr>\n",
       "      <th>2020</th>\n",
       "      <td>52</td>\n",
       "      <td>95</td>\n",
       "    </tr>\n",
       "    <tr>\n",
       "      <th>2024</th>\n",
       "      <td>55</td>\n",
       "      <td>92</td>\n",
       "    </tr>\n",
       "  </tbody>\n",
       "</table>\n",
       "</div>"
      ],
      "text/plain": [
       "      Kaunas  Alytus\n",
       "2012      56      50\n",
       "2020      52      95\n",
       "2024      55      92"
      ]
     },
     "execution_count": 29,
     "metadata": {},
     "output_type": "execute_result"
    }
   ],
   "source": [
    "miestu_skaiciai.loc[[2012, 2020, 2024], ['Kaunas', 'Alytus']]"
   ]
  },
  {
   "cell_type": "code",
   "execution_count": 30,
   "metadata": {},
   "outputs": [
    {
     "data": {
      "text/html": [
       "<div>\n",
       "<style scoped>\n",
       "    .dataframe tbody tr th:only-of-type {\n",
       "        vertical-align: middle;\n",
       "    }\n",
       "\n",
       "    .dataframe tbody tr th {\n",
       "        vertical-align: top;\n",
       "    }\n",
       "\n",
       "    .dataframe thead th {\n",
       "        text-align: right;\n",
       "    }\n",
       "</style>\n",
       "<table border=\"1\" class=\"dataframe\">\n",
       "  <thead>\n",
       "    <tr style=\"text-align: right;\">\n",
       "      <th></th>\n",
       "      <th>Kaunas</th>\n",
       "      <th>Alytus</th>\n",
       "    </tr>\n",
       "  </thead>\n",
       "  <tbody>\n",
       "    <tr>\n",
       "      <th>2020</th>\n",
       "      <td>52</td>\n",
       "      <td>95</td>\n",
       "    </tr>\n",
       "    <tr>\n",
       "      <th>2012</th>\n",
       "      <td>56</td>\n",
       "      <td>50</td>\n",
       "    </tr>\n",
       "    <tr>\n",
       "      <th>2000</th>\n",
       "      <td>82</td>\n",
       "      <td>72</td>\n",
       "    </tr>\n",
       "  </tbody>\n",
       "</table>\n",
       "</div>"
      ],
      "text/plain": [
       "      Kaunas  Alytus\n",
       "2020      52      95\n",
       "2012      56      50\n",
       "2000      82      72"
      ]
     },
     "execution_count": 30,
     "metadata": {},
     "output_type": "execute_result"
    }
   ],
   "source": [
    "miestu_skaiciai[['Kaunas', 'Alytus']].loc[[2020, 2012, 2000]]"
   ]
  },
  {
   "cell_type": "code",
   "execution_count": 31,
   "metadata": {},
   "outputs": [
    {
     "data": {
      "text/html": [
       "<div>\n",
       "<style scoped>\n",
       "    .dataframe tbody tr th:only-of-type {\n",
       "        vertical-align: middle;\n",
       "    }\n",
       "\n",
       "    .dataframe tbody tr th {\n",
       "        vertical-align: top;\n",
       "    }\n",
       "\n",
       "    .dataframe thead th {\n",
       "        text-align: right;\n",
       "    }\n",
       "</style>\n",
       "<table border=\"1\" class=\"dataframe\">\n",
       "  <thead>\n",
       "    <tr style=\"text-align: right;\">\n",
       "      <th></th>\n",
       "      <th>Vilnius</th>\n",
       "      <th>Kaunas</th>\n",
       "      <th>Klaipeda</th>\n",
       "      <th>Panevezys</th>\n",
       "      <th>Alytus</th>\n",
       "      <th>Druskininkai</th>\n",
       "      <th>Kazlu Ruda</th>\n",
       "    </tr>\n",
       "  </thead>\n",
       "  <tbody>\n",
       "    <tr>\n",
       "      <th>2000</th>\n",
       "      <td>99.0</td>\n",
       "      <td>82.0</td>\n",
       "      <td>NaN</td>\n",
       "      <td>NaN</td>\n",
       "      <td>72.0</td>\n",
       "      <td>78.0</td>\n",
       "      <td>NaN</td>\n",
       "    </tr>\n",
       "    <tr>\n",
       "      <th>2004</th>\n",
       "      <td>75.0</td>\n",
       "      <td>NaN</td>\n",
       "      <td>NaN</td>\n",
       "      <td>NaN</td>\n",
       "      <td>98.0</td>\n",
       "      <td>NaN</td>\n",
       "      <td>NaN</td>\n",
       "    </tr>\n",
       "    <tr>\n",
       "      <th>2008</th>\n",
       "      <td>NaN</td>\n",
       "      <td>NaN</td>\n",
       "      <td>NaN</td>\n",
       "      <td>NaN</td>\n",
       "      <td>NaN</td>\n",
       "      <td>NaN</td>\n",
       "      <td>NaN</td>\n",
       "    </tr>\n",
       "    <tr>\n",
       "      <th>2012</th>\n",
       "      <td>79.0</td>\n",
       "      <td>NaN</td>\n",
       "      <td>NaN</td>\n",
       "      <td>96.0</td>\n",
       "      <td>NaN</td>\n",
       "      <td>NaN</td>\n",
       "      <td>NaN</td>\n",
       "    </tr>\n",
       "    <tr>\n",
       "      <th>2016</th>\n",
       "      <td>NaN</td>\n",
       "      <td>NaN</td>\n",
       "      <td>NaN</td>\n",
       "      <td>NaN</td>\n",
       "      <td>NaN</td>\n",
       "      <td>78.0</td>\n",
       "      <td>77.0</td>\n",
       "    </tr>\n",
       "    <tr>\n",
       "      <th>2020</th>\n",
       "      <td>NaN</td>\n",
       "      <td>NaN</td>\n",
       "      <td>NaN</td>\n",
       "      <td>76.0</td>\n",
       "      <td>95.0</td>\n",
       "      <td>74.0</td>\n",
       "      <td>NaN</td>\n",
       "    </tr>\n",
       "    <tr>\n",
       "      <th>2024</th>\n",
       "      <td>NaN</td>\n",
       "      <td>NaN</td>\n",
       "      <td>91.0</td>\n",
       "      <td>NaN</td>\n",
       "      <td>92.0</td>\n",
       "      <td>NaN</td>\n",
       "      <td>NaN</td>\n",
       "    </tr>\n",
       "  </tbody>\n",
       "</table>\n",
       "</div>"
      ],
      "text/plain": [
       "      Vilnius  Kaunas  Klaipeda  Panevezys  Alytus  Druskininkai  Kazlu Ruda\n",
       "2000     99.0    82.0       NaN        NaN    72.0          78.0         NaN\n",
       "2004     75.0     NaN       NaN        NaN    98.0           NaN         NaN\n",
       "2008      NaN     NaN       NaN        NaN     NaN           NaN         NaN\n",
       "2012     79.0     NaN       NaN       96.0     NaN           NaN         NaN\n",
       "2016      NaN     NaN       NaN        NaN     NaN          78.0        77.0\n",
       "2020      NaN     NaN       NaN       76.0    95.0          74.0         NaN\n",
       "2024      NaN     NaN      91.0        NaN    92.0           NaN         NaN"
      ]
     },
     "execution_count": 31,
     "metadata": {},
     "output_type": "execute_result"
    }
   ],
   "source": [
    "miestu_skaiciai[miestu_skaiciai > 70]"
   ]
  },
  {
   "cell_type": "code",
   "execution_count": 32,
   "metadata": {},
   "outputs": [
    {
     "name": "stdout",
     "output_type": "stream",
     "text": [
      "      Vilnius  Kaunas  Klaipeda  Panevezys  Alytus  Druskininkai  Kazlu Ruda\n",
      "2004       75      66        56         55      98            68          48\n",
      "2012       79      56        59         96      50            43          35\n",
      "2016       15      53        58         39      38            78          77\n",
      "2024       40      55        91         27      92            10          20\n"
     ]
    }
   ],
   "source": [
    "print(miestu_skaiciai[miestu_skaiciai['Klaipeda'] > 50])"
   ]
  },
  {
   "cell_type": "code",
   "execution_count": 33,
   "metadata": {},
   "outputs": [
    {
     "data": {
      "text/html": [
       "<div>\n",
       "<style scoped>\n",
       "    .dataframe tbody tr th:only-of-type {\n",
       "        vertical-align: middle;\n",
       "    }\n",
       "\n",
       "    .dataframe tbody tr th {\n",
       "        vertical-align: top;\n",
       "    }\n",
       "\n",
       "    .dataframe thead th {\n",
       "        text-align: right;\n",
       "    }\n",
       "</style>\n",
       "<table border=\"1\" class=\"dataframe\">\n",
       "  <thead>\n",
       "    <tr style=\"text-align: right;\">\n",
       "      <th></th>\n",
       "      <th>Vilnius</th>\n",
       "      <th>Klaipeda</th>\n",
       "    </tr>\n",
       "  </thead>\n",
       "  <tbody>\n",
       "    <tr>\n",
       "      <th>2024</th>\n",
       "      <td>40</td>\n",
       "      <td>91</td>\n",
       "    </tr>\n",
       "  </tbody>\n",
       "</table>\n",
       "</div>"
      ],
      "text/plain": [
       "      Vilnius  Klaipeda\n",
       "2024       40        91"
      ]
     },
     "execution_count": 33,
     "metadata": {},
     "output_type": "execute_result"
    }
   ],
   "source": [
    "miestu_skaiciai[miestu_skaiciai['Klaipeda'] > 80][['Vilnius', 'Klaipeda']]"
   ]
  },
  {
   "cell_type": "code",
   "execution_count": 34,
   "metadata": {},
   "outputs": [
    {
     "data": {
      "text/html": [
       "<div>\n",
       "<style scoped>\n",
       "    .dataframe tbody tr th:only-of-type {\n",
       "        vertical-align: middle;\n",
       "    }\n",
       "\n",
       "    .dataframe tbody tr th {\n",
       "        vertical-align: top;\n",
       "    }\n",
       "\n",
       "    .dataframe thead th {\n",
       "        text-align: right;\n",
       "    }\n",
       "</style>\n",
       "<table border=\"1\" class=\"dataframe\">\n",
       "  <thead>\n",
       "    <tr style=\"text-align: right;\">\n",
       "      <th></th>\n",
       "      <th>Vilnius</th>\n",
       "      <th>Kaunas</th>\n",
       "      <th>Klaipeda</th>\n",
       "      <th>Panevezys</th>\n",
       "      <th>Alytus</th>\n",
       "      <th>Druskininkai</th>\n",
       "      <th>Kazlu Ruda</th>\n",
       "    </tr>\n",
       "  </thead>\n",
       "  <tbody>\n",
       "    <tr>\n",
       "      <th>2000</th>\n",
       "      <td>99</td>\n",
       "      <td>82</td>\n",
       "      <td>29</td>\n",
       "      <td>32</td>\n",
       "      <td>72</td>\n",
       "      <td>78</td>\n",
       "      <td>13</td>\n",
       "    </tr>\n",
       "    <tr>\n",
       "      <th>2024</th>\n",
       "      <td>40</td>\n",
       "      <td>55</td>\n",
       "      <td>91</td>\n",
       "      <td>27</td>\n",
       "      <td>92</td>\n",
       "      <td>10</td>\n",
       "      <td>20</td>\n",
       "    </tr>\n",
       "  </tbody>\n",
       "</table>\n",
       "</div>"
      ],
      "text/plain": [
       "      Vilnius  Kaunas  Klaipeda  Panevezys  Alytus  Druskininkai  Kazlu Ruda\n",
       "2000       99      82        29         32      72            78          13\n",
       "2024       40      55        91         27      92            10          20"
      ]
     },
     "execution_count": 34,
     "metadata": {},
     "output_type": "execute_result"
    }
   ],
   "source": [
    "miestu_skaiciai[(miestu_skaiciai['Vilnius'] > 90) | (miestu_skaiciai['Klaipeda'] > 80)]"
   ]
  },
  {
   "cell_type": "code",
   "execution_count": 35,
   "metadata": {},
   "outputs": [
    {
     "data": {
      "text/html": [
       "<div>\n",
       "<style scoped>\n",
       "    .dataframe tbody tr th:only-of-type {\n",
       "        vertical-align: middle;\n",
       "    }\n",
       "\n",
       "    .dataframe tbody tr th {\n",
       "        vertical-align: top;\n",
       "    }\n",
       "\n",
       "    .dataframe thead th {\n",
       "        text-align: right;\n",
       "    }\n",
       "</style>\n",
       "<table border=\"1\" class=\"dataframe\">\n",
       "  <thead>\n",
       "    <tr style=\"text-align: right;\">\n",
       "      <th></th>\n",
       "      <th>index</th>\n",
       "      <th>Vilnius</th>\n",
       "      <th>Kaunas</th>\n",
       "      <th>Klaipeda</th>\n",
       "      <th>Panevezys</th>\n",
       "      <th>Alytus</th>\n",
       "      <th>Druskininkai</th>\n",
       "      <th>Kazlu Ruda</th>\n",
       "    </tr>\n",
       "  </thead>\n",
       "  <tbody>\n",
       "    <tr>\n",
       "      <th>0</th>\n",
       "      <td>2000</td>\n",
       "      <td>99</td>\n",
       "      <td>82</td>\n",
       "      <td>29</td>\n",
       "      <td>32</td>\n",
       "      <td>72</td>\n",
       "      <td>78</td>\n",
       "      <td>13</td>\n",
       "    </tr>\n",
       "    <tr>\n",
       "      <th>1</th>\n",
       "      <td>2004</td>\n",
       "      <td>75</td>\n",
       "      <td>66</td>\n",
       "      <td>56</td>\n",
       "      <td>55</td>\n",
       "      <td>98</td>\n",
       "      <td>68</td>\n",
       "      <td>48</td>\n",
       "    </tr>\n",
       "    <tr>\n",
       "      <th>2</th>\n",
       "      <td>2008</td>\n",
       "      <td>44</td>\n",
       "      <td>51</td>\n",
       "      <td>38</td>\n",
       "      <td>49</td>\n",
       "      <td>21</td>\n",
       "      <td>45</td>\n",
       "      <td>18</td>\n",
       "    </tr>\n",
       "    <tr>\n",
       "      <th>3</th>\n",
       "      <td>2012</td>\n",
       "      <td>79</td>\n",
       "      <td>56</td>\n",
       "      <td>59</td>\n",
       "      <td>96</td>\n",
       "      <td>50</td>\n",
       "      <td>43</td>\n",
       "      <td>35</td>\n",
       "    </tr>\n",
       "    <tr>\n",
       "      <th>4</th>\n",
       "      <td>2016</td>\n",
       "      <td>15</td>\n",
       "      <td>53</td>\n",
       "      <td>58</td>\n",
       "      <td>39</td>\n",
       "      <td>38</td>\n",
       "      <td>78</td>\n",
       "      <td>77</td>\n",
       "    </tr>\n",
       "    <tr>\n",
       "      <th>5</th>\n",
       "      <td>2020</td>\n",
       "      <td>57</td>\n",
       "      <td>52</td>\n",
       "      <td>13</td>\n",
       "      <td>76</td>\n",
       "      <td>95</td>\n",
       "      <td>74</td>\n",
       "      <td>69</td>\n",
       "    </tr>\n",
       "    <tr>\n",
       "      <th>6</th>\n",
       "      <td>2024</td>\n",
       "      <td>40</td>\n",
       "      <td>55</td>\n",
       "      <td>91</td>\n",
       "      <td>27</td>\n",
       "      <td>92</td>\n",
       "      <td>10</td>\n",
       "      <td>20</td>\n",
       "    </tr>\n",
       "  </tbody>\n",
       "</table>\n",
       "</div>"
      ],
      "text/plain": [
       "   index  Vilnius  Kaunas  Klaipeda  Panevezys  Alytus  Druskininkai  \\\n",
       "0   2000       99      82        29         32      72            78   \n",
       "1   2004       75      66        56         55      98            68   \n",
       "2   2008       44      51        38         49      21            45   \n",
       "3   2012       79      56        59         96      50            43   \n",
       "4   2016       15      53        58         39      38            78   \n",
       "5   2020       57      52        13         76      95            74   \n",
       "6   2024       40      55        91         27      92            10   \n",
       "\n",
       "   Kazlu Ruda  \n",
       "0          13  \n",
       "1          48  \n",
       "2          18  \n",
       "3          35  \n",
       "4          77  \n",
       "5          69  \n",
       "6          20  "
      ]
     },
     "execution_count": 35,
     "metadata": {},
     "output_type": "execute_result"
    }
   ],
   "source": [
    "miestu_skaiciai.reset_index()"
   ]
  },
  {
   "cell_type": "code",
   "execution_count": 36,
   "metadata": {},
   "outputs": [
    {
     "data": {
      "text/html": [
       "<div>\n",
       "<style scoped>\n",
       "    .dataframe tbody tr th:only-of-type {\n",
       "        vertical-align: middle;\n",
       "    }\n",
       "\n",
       "    .dataframe tbody tr th {\n",
       "        vertical-align: top;\n",
       "    }\n",
       "\n",
       "    .dataframe thead th {\n",
       "        text-align: right;\n",
       "    }\n",
       "</style>\n",
       "<table border=\"1\" class=\"dataframe\">\n",
       "  <thead>\n",
       "    <tr style=\"text-align: right;\">\n",
       "      <th></th>\n",
       "      <th>index</th>\n",
       "      <th>Vilnius</th>\n",
       "      <th>Kaunas</th>\n",
       "      <th>Klaipeda</th>\n",
       "      <th>Panevezys</th>\n",
       "      <th>Alytus</th>\n",
       "      <th>Druskininkai</th>\n",
       "      <th>Kazlu Ruda</th>\n",
       "    </tr>\n",
       "  </thead>\n",
       "  <tbody>\n",
       "    <tr>\n",
       "      <th>0</th>\n",
       "      <td>2000</td>\n",
       "      <td>99</td>\n",
       "      <td>82</td>\n",
       "      <td>29</td>\n",
       "      <td>32</td>\n",
       "      <td>72</td>\n",
       "      <td>78</td>\n",
       "      <td>13</td>\n",
       "    </tr>\n",
       "    <tr>\n",
       "      <th>1</th>\n",
       "      <td>2004</td>\n",
       "      <td>75</td>\n",
       "      <td>66</td>\n",
       "      <td>56</td>\n",
       "      <td>55</td>\n",
       "      <td>98</td>\n",
       "      <td>68</td>\n",
       "      <td>48</td>\n",
       "    </tr>\n",
       "    <tr>\n",
       "      <th>2</th>\n",
       "      <td>2008</td>\n",
       "      <td>44</td>\n",
       "      <td>51</td>\n",
       "      <td>38</td>\n",
       "      <td>49</td>\n",
       "      <td>21</td>\n",
       "      <td>45</td>\n",
       "      <td>18</td>\n",
       "    </tr>\n",
       "    <tr>\n",
       "      <th>3</th>\n",
       "      <td>2012</td>\n",
       "      <td>79</td>\n",
       "      <td>56</td>\n",
       "      <td>59</td>\n",
       "      <td>96</td>\n",
       "      <td>50</td>\n",
       "      <td>43</td>\n",
       "      <td>35</td>\n",
       "    </tr>\n",
       "    <tr>\n",
       "      <th>4</th>\n",
       "      <td>2016</td>\n",
       "      <td>15</td>\n",
       "      <td>53</td>\n",
       "      <td>58</td>\n",
       "      <td>39</td>\n",
       "      <td>38</td>\n",
       "      <td>78</td>\n",
       "      <td>77</td>\n",
       "    </tr>\n",
       "    <tr>\n",
       "      <th>5</th>\n",
       "      <td>2020</td>\n",
       "      <td>57</td>\n",
       "      <td>52</td>\n",
       "      <td>13</td>\n",
       "      <td>76</td>\n",
       "      <td>95</td>\n",
       "      <td>74</td>\n",
       "      <td>69</td>\n",
       "    </tr>\n",
       "    <tr>\n",
       "      <th>6</th>\n",
       "      <td>2024</td>\n",
       "      <td>40</td>\n",
       "      <td>55</td>\n",
       "      <td>91</td>\n",
       "      <td>27</td>\n",
       "      <td>92</td>\n",
       "      <td>10</td>\n",
       "      <td>20</td>\n",
       "    </tr>\n",
       "  </tbody>\n",
       "</table>\n",
       "</div>"
      ],
      "text/plain": [
       "   index  Vilnius  Kaunas  Klaipeda  Panevezys  Alytus  Druskininkai  \\\n",
       "0   2000       99      82        29         32      72            78   \n",
       "1   2004       75      66        56         55      98            68   \n",
       "2   2008       44      51        38         49      21            45   \n",
       "3   2012       79      56        59         96      50            43   \n",
       "4   2016       15      53        58         39      38            78   \n",
       "5   2020       57      52        13         76      95            74   \n",
       "6   2024       40      55        91         27      92            10   \n",
       "\n",
       "   Kazlu Ruda  \n",
       "0          13  \n",
       "1          48  \n",
       "2          18  \n",
       "3          35  \n",
       "4          77  \n",
       "5          69  \n",
       "6          20  "
      ]
     },
     "execution_count": 36,
     "metadata": {},
     "output_type": "execute_result"
    }
   ],
   "source": [
    "be_indekso = miestu_skaiciai.reset_index()\n",
    "be_indekso"
   ]
  },
  {
   "cell_type": "code",
   "execution_count": 37,
   "metadata": {},
   "outputs": [
    {
     "data": {
      "text/html": [
       "<div>\n",
       "<style scoped>\n",
       "    .dataframe tbody tr th:only-of-type {\n",
       "        vertical-align: middle;\n",
       "    }\n",
       "\n",
       "    .dataframe tbody tr th {\n",
       "        vertical-align: top;\n",
       "    }\n",
       "\n",
       "    .dataframe thead th {\n",
       "        text-align: right;\n",
       "    }\n",
       "</style>\n",
       "<table border=\"1\" class=\"dataframe\">\n",
       "  <thead>\n",
       "    <tr style=\"text-align: right;\">\n",
       "      <th></th>\n",
       "      <th>index</th>\n",
       "      <th>Vilnius</th>\n",
       "      <th>Kaunas</th>\n",
       "      <th>Klaipeda</th>\n",
       "      <th>Panevezys</th>\n",
       "      <th>Alytus</th>\n",
       "      <th>Druskininkai</th>\n",
       "      <th>Kazlu Ruda</th>\n",
       "      <th>Utena</th>\n",
       "    </tr>\n",
       "  </thead>\n",
       "  <tbody>\n",
       "    <tr>\n",
       "      <th>0</th>\n",
       "      <td>2000</td>\n",
       "      <td>99</td>\n",
       "      <td>82</td>\n",
       "      <td>29</td>\n",
       "      <td>32</td>\n",
       "      <td>72</td>\n",
       "      <td>78</td>\n",
       "      <td>13</td>\n",
       "      <td>52</td>\n",
       "    </tr>\n",
       "    <tr>\n",
       "      <th>1</th>\n",
       "      <td>2004</td>\n",
       "      <td>75</td>\n",
       "      <td>66</td>\n",
       "      <td>56</td>\n",
       "      <td>55</td>\n",
       "      <td>98</td>\n",
       "      <td>68</td>\n",
       "      <td>48</td>\n",
       "      <td>62</td>\n",
       "    </tr>\n",
       "    <tr>\n",
       "      <th>2</th>\n",
       "      <td>2008</td>\n",
       "      <td>44</td>\n",
       "      <td>51</td>\n",
       "      <td>38</td>\n",
       "      <td>49</td>\n",
       "      <td>21</td>\n",
       "      <td>45</td>\n",
       "      <td>18</td>\n",
       "      <td>20</td>\n",
       "    </tr>\n",
       "    <tr>\n",
       "      <th>3</th>\n",
       "      <td>2012</td>\n",
       "      <td>79</td>\n",
       "      <td>56</td>\n",
       "      <td>59</td>\n",
       "      <td>96</td>\n",
       "      <td>50</td>\n",
       "      <td>43</td>\n",
       "      <td>35</td>\n",
       "      <td>46</td>\n",
       "    </tr>\n",
       "    <tr>\n",
       "      <th>4</th>\n",
       "      <td>2016</td>\n",
       "      <td>15</td>\n",
       "      <td>53</td>\n",
       "      <td>58</td>\n",
       "      <td>39</td>\n",
       "      <td>38</td>\n",
       "      <td>78</td>\n",
       "      <td>77</td>\n",
       "      <td>30</td>\n",
       "    </tr>\n",
       "    <tr>\n",
       "      <th>5</th>\n",
       "      <td>2020</td>\n",
       "      <td>57</td>\n",
       "      <td>52</td>\n",
       "      <td>13</td>\n",
       "      <td>76</td>\n",
       "      <td>95</td>\n",
       "      <td>74</td>\n",
       "      <td>69</td>\n",
       "      <td>27</td>\n",
       "    </tr>\n",
       "    <tr>\n",
       "      <th>6</th>\n",
       "      <td>2024</td>\n",
       "      <td>40</td>\n",
       "      <td>55</td>\n",
       "      <td>91</td>\n",
       "      <td>27</td>\n",
       "      <td>92</td>\n",
       "      <td>10</td>\n",
       "      <td>20</td>\n",
       "      <td>69</td>\n",
       "    </tr>\n",
       "  </tbody>\n",
       "</table>\n",
       "</div>"
      ],
      "text/plain": [
       "   index  Vilnius  Kaunas  Klaipeda  Panevezys  Alytus  Druskininkai  \\\n",
       "0   2000       99      82        29         32      72            78   \n",
       "1   2004       75      66        56         55      98            68   \n",
       "2   2008       44      51        38         49      21            45   \n",
       "3   2012       79      56        59         96      50            43   \n",
       "4   2016       15      53        58         39      38            78   \n",
       "5   2020       57      52        13         76      95            74   \n",
       "6   2024       40      55        91         27      92            10   \n",
       "\n",
       "   Kazlu Ruda  Utena  \n",
       "0          13     52  \n",
       "1          48     62  \n",
       "2          18     20  \n",
       "3          35     46  \n",
       "4          77     30  \n",
       "5          69     27  \n",
       "6          20     69  "
      ]
     },
     "execution_count": 37,
     "metadata": {},
     "output_type": "execute_result"
    }
   ],
   "source": [
    "be_indekso['Utena'] = np.random.randint(10, 71, 7)\n",
    "be_indekso"
   ]
  },
  {
   "cell_type": "code",
   "execution_count": 38,
   "metadata": {},
   "outputs": [
    {
     "data": {
      "text/html": [
       "<div>\n",
       "<style scoped>\n",
       "    .dataframe tbody tr th:only-of-type {\n",
       "        vertical-align: middle;\n",
       "    }\n",
       "\n",
       "    .dataframe tbody tr th {\n",
       "        vertical-align: top;\n",
       "    }\n",
       "\n",
       "    .dataframe thead th {\n",
       "        text-align: right;\n",
       "    }\n",
       "</style>\n",
       "<table border=\"1\" class=\"dataframe\">\n",
       "  <thead>\n",
       "    <tr style=\"text-align: right;\">\n",
       "      <th></th>\n",
       "      <th>Vilnius</th>\n",
       "      <th>Kaunas</th>\n",
       "      <th>Klaipeda</th>\n",
       "      <th>Panevezys</th>\n",
       "      <th>Alytus</th>\n",
       "      <th>Druskininkai</th>\n",
       "      <th>Kazlu Ruda</th>\n",
       "      <th>Utena</th>\n",
       "    </tr>\n",
       "    <tr>\n",
       "      <th>index</th>\n",
       "      <th></th>\n",
       "      <th></th>\n",
       "      <th></th>\n",
       "      <th></th>\n",
       "      <th></th>\n",
       "      <th></th>\n",
       "      <th></th>\n",
       "      <th></th>\n",
       "    </tr>\n",
       "  </thead>\n",
       "  <tbody>\n",
       "    <tr>\n",
       "      <th>2000</th>\n",
       "      <td>99</td>\n",
       "      <td>82</td>\n",
       "      <td>29</td>\n",
       "      <td>32</td>\n",
       "      <td>72</td>\n",
       "      <td>78</td>\n",
       "      <td>13</td>\n",
       "      <td>52</td>\n",
       "    </tr>\n",
       "    <tr>\n",
       "      <th>2004</th>\n",
       "      <td>75</td>\n",
       "      <td>66</td>\n",
       "      <td>56</td>\n",
       "      <td>55</td>\n",
       "      <td>98</td>\n",
       "      <td>68</td>\n",
       "      <td>48</td>\n",
       "      <td>62</td>\n",
       "    </tr>\n",
       "    <tr>\n",
       "      <th>2008</th>\n",
       "      <td>44</td>\n",
       "      <td>51</td>\n",
       "      <td>38</td>\n",
       "      <td>49</td>\n",
       "      <td>21</td>\n",
       "      <td>45</td>\n",
       "      <td>18</td>\n",
       "      <td>20</td>\n",
       "    </tr>\n",
       "    <tr>\n",
       "      <th>2012</th>\n",
       "      <td>79</td>\n",
       "      <td>56</td>\n",
       "      <td>59</td>\n",
       "      <td>96</td>\n",
       "      <td>50</td>\n",
       "      <td>43</td>\n",
       "      <td>35</td>\n",
       "      <td>46</td>\n",
       "    </tr>\n",
       "    <tr>\n",
       "      <th>2016</th>\n",
       "      <td>15</td>\n",
       "      <td>53</td>\n",
       "      <td>58</td>\n",
       "      <td>39</td>\n",
       "      <td>38</td>\n",
       "      <td>78</td>\n",
       "      <td>77</td>\n",
       "      <td>30</td>\n",
       "    </tr>\n",
       "    <tr>\n",
       "      <th>2020</th>\n",
       "      <td>57</td>\n",
       "      <td>52</td>\n",
       "      <td>13</td>\n",
       "      <td>76</td>\n",
       "      <td>95</td>\n",
       "      <td>74</td>\n",
       "      <td>69</td>\n",
       "      <td>27</td>\n",
       "    </tr>\n",
       "    <tr>\n",
       "      <th>2024</th>\n",
       "      <td>40</td>\n",
       "      <td>55</td>\n",
       "      <td>91</td>\n",
       "      <td>27</td>\n",
       "      <td>92</td>\n",
       "      <td>10</td>\n",
       "      <td>20</td>\n",
       "      <td>69</td>\n",
       "    </tr>\n",
       "  </tbody>\n",
       "</table>\n",
       "</div>"
      ],
      "text/plain": [
       "       Vilnius  Kaunas  Klaipeda  Panevezys  Alytus  Druskininkai  Kazlu Ruda  \\\n",
       "index                                                                           \n",
       "2000        99      82        29         32      72            78          13   \n",
       "2004        75      66        56         55      98            68          48   \n",
       "2008        44      51        38         49      21            45          18   \n",
       "2012        79      56        59         96      50            43          35   \n",
       "2016        15      53        58         39      38            78          77   \n",
       "2020        57      52        13         76      95            74          69   \n",
       "2024        40      55        91         27      92            10          20   \n",
       "\n",
       "       Utena  \n",
       "index         \n",
       "2000      52  \n",
       "2004      62  \n",
       "2008      20  \n",
       "2012      46  \n",
       "2016      30  \n",
       "2020      27  \n",
       "2024      69  "
      ]
     },
     "execution_count": 38,
     "metadata": {},
     "output_type": "execute_result"
    }
   ],
   "source": [
    "su_utena = be_indekso.set_index('index')\n",
    "su_utena"
   ]
  }
 ],
 "metadata": {
  "kernelspec": {
   "display_name": "Python 3",
   "language": "python",
   "name": "python3"
  },
  "language_info": {
   "codemirror_mode": {
    "name": "ipython",
    "version": 3
   },
   "file_extension": ".py",
   "mimetype": "text/x-python",
   "name": "python",
   "nbconvert_exporter": "python",
   "pygments_lexer": "ipython3",
   "version": "3.12.1 (v3.12.1:2305ca5144, Dec  7 2023, 17:23:39) [Clang 13.0.0 (clang-1300.0.29.30)]"
  },
  "vscode": {
   "interpreter": {
    "hash": "aee8b7b246df8f9039afb4144a1f6fd8d2ca17a180786b69acc140d282b71a49"
   }
  }
 },
 "nbformat": 4,
 "nbformat_minor": 2
}
