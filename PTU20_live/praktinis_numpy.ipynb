{
 "cells": [
  {
   "cell_type": "code",
   "execution_count": 2,
   "metadata": {},
   "outputs": [],
   "source": [
    "import numpy as np"
   ]
  },
  {
   "cell_type": "code",
   "execution_count": 3,
   "metadata": {},
   "outputs": [
    {
     "name": "stdout",
     "output_type": "stream",
     "text": [
      "[4 5 1 3 2]\n"
     ]
    }
   ],
   "source": [
    "sarasas = [4, 5, 1, 3, 2]\n",
    "masyvas = np.array(sarasas)\n",
    "print(masyvas)"
   ]
  },
  {
   "cell_type": "code",
   "execution_count": 4,
   "metadata": {},
   "outputs": [
    {
     "name": "stdout",
     "output_type": "stream",
     "text": [
      "[[1, 2, 3], [4, 5, 6], [7, 8, 9]]\n"
     ]
    }
   ],
   "source": [
    "x0 = [[1, 2, 3], [4, 5, 6], [7, 8, 9]]\n",
    "print(x0)"
   ]
  },
  {
   "cell_type": "code",
   "execution_count": 5,
   "metadata": {},
   "outputs": [
    {
     "name": "stdout",
     "output_type": "stream",
     "text": [
      "[[1 2 3]\n",
      " [4 5 6]\n",
      " [7 8 9]]\n"
     ]
    }
   ],
   "source": [
    "x0matrix = np.array(x0)\n",
    "print(x0matrix)"
   ]
  },
  {
   "cell_type": "code",
   "execution_count": 6,
   "metadata": {},
   "outputs": [
    {
     "name": "stdout",
     "output_type": "stream",
     "text": [
      "[  5  10  15  20  25  30  35  40  45  50  55  60  65  70  75  80  85  90\n",
      "  95 100 105 110 115 120 125 130 135 140 145 150 155 160 165 170 175 180\n",
      " 185 190 195 200]\n"
     ]
    }
   ],
   "source": [
    "print(np.arange(5, 202, 5))"
   ]
  },
  {
   "cell_type": "code",
   "execution_count": 7,
   "metadata": {},
   "outputs": [
    {
     "name": "stdout",
     "output_type": "stream",
     "text": [
      "[0. 0. 0. 0. 0.]\n"
     ]
    }
   ],
   "source": [
    "print(np.zeros(5))"
   ]
  },
  {
   "cell_type": "code",
   "execution_count": 8,
   "metadata": {},
   "outputs": [
    {
     "name": "stdout",
     "output_type": "stream",
     "text": [
      "[[0. 0. 0.]\n",
      " [0. 0. 0.]\n",
      " [0. 0. 0.]]\n"
     ]
    }
   ],
   "source": [
    "print(np.zeros((3, 3)))"
   ]
  },
  {
   "cell_type": "code",
   "execution_count": 9,
   "metadata": {},
   "outputs": [
    {
     "name": "stdout",
     "output_type": "stream",
     "text": [
      "[[1. 1. 1.]\n",
      " [1. 1. 1.]\n",
      " [1. 1. 1.]]\n"
     ]
    }
   ],
   "source": [
    "print(np.ones((3, 3)))"
   ]
  },
  {
   "cell_type": "code",
   "execution_count": 10,
   "metadata": {},
   "outputs": [
    {
     "data": {
      "text/plain": [
       "array([21., 26., 31., 36., 41., 46., 51., 56., 61.])"
      ]
     },
     "execution_count": 10,
     "metadata": {},
     "output_type": "execute_result"
    }
   ],
   "source": [
    "np.linspace(21, 61, 9)"
   ]
  },
  {
   "cell_type": "code",
   "execution_count": 11,
   "metadata": {},
   "outputs": [
    {
     "name": "stdout",
     "output_type": "stream",
     "text": [
      "[[1. 0. 0. 0. 0.]\n",
      " [0. 1. 0. 0. 0.]\n",
      " [0. 0. 1. 0. 0.]\n",
      " [0. 0. 0. 1. 0.]\n",
      " [0. 0. 0. 0. 1.]]\n"
     ]
    }
   ],
   "source": [
    "print(np.eye(5))"
   ]
  },
  {
   "cell_type": "code",
   "execution_count": 12,
   "metadata": {},
   "outputs": [
    {
     "data": {
      "text/plain": [
       "array([0.94391085, 0.38169355, 0.3655397 , 0.75972008, 0.69417473])"
      ]
     },
     "execution_count": 12,
     "metadata": {},
     "output_type": "execute_result"
    }
   ],
   "source": [
    "np.random.rand(5)"
   ]
  },
  {
   "cell_type": "code",
   "execution_count": 13,
   "metadata": {},
   "outputs": [
    {
     "data": {
      "text/plain": [
       "array([[0.17778033, 0.13937214, 0.52816471, 0.67011862, 0.11415162],\n",
       "       [0.84220655, 0.38558678, 0.95906165, 0.10736215, 0.81339189],\n",
       "       [0.67981088, 0.86299151, 0.88336673, 0.11287161, 0.5234152 ],\n",
       "       [0.74605673, 0.61402921, 0.22879549, 0.44851412, 0.26119299],\n",
       "       [0.43478751, 0.89849409, 0.1783894 , 0.11825155, 0.1914496 ]])"
      ]
     },
     "execution_count": 13,
     "metadata": {},
     "output_type": "execute_result"
    }
   ],
   "source": [
    "np.random.rand(5, 5)"
   ]
  },
  {
   "cell_type": "code",
   "execution_count": 14,
   "metadata": {},
   "outputs": [
    {
     "data": {
      "text/plain": [
       "array([[-0.63885647, -0.63657529, -1.10199808,  0.12193351],\n",
       "       [ 0.66152591,  1.35430092, -0.4091311 , -1.49683957],\n",
       "       [-0.37662153,  0.35296653,  0.48291962,  0.91459572],\n",
       "       [-0.96312647,  0.01399152,  0.72767466, -2.42169322]])"
      ]
     },
     "execution_count": 14,
     "metadata": {},
     "output_type": "execute_result"
    }
   ],
   "source": [
    "np.random.randn(4, 4)"
   ]
  },
  {
   "cell_type": "code",
   "execution_count": 15,
   "metadata": {},
   "outputs": [
    {
     "data": {
      "text/plain": [
       "array([[67, 48,  6, 48, 77],\n",
       "       [ 9, 67, 36, 11, 27],\n",
       "       [12, 55, 31, 86, 62],\n",
       "       [86, 73, 85,  3, 67],\n",
       "       [97, 80, 34, 48,  4]])"
      ]
     },
     "execution_count": 15,
     "metadata": {},
     "output_type": "execute_result"
    }
   ],
   "source": [
    "np.random.randint(1, 100, (5, 5))"
   ]
  },
  {
   "cell_type": "code",
   "execution_count": 16,
   "metadata": {},
   "outputs": [
    {
     "data": {
      "text/plain": [
       "array([78, 91, 25, 22, 78, 97, 20, 13, 58, 41, 36, 29, 86, 63, 75, 32, 98,\n",
       "       33, 57, 51, 11, 92, 17, 54, 99, 72, 34, 28, 37, 53, 51, 21, 52, 78,\n",
       "       45, 29, 80, 45, 40, 42, 26, 66, 71, 53, 95, 64, 29, 93, 61, 42, 63,\n",
       "       92, 14, 46, 16, 68])"
      ]
     },
     "execution_count": 16,
     "metadata": {},
     "output_type": "execute_result"
    }
   ],
   "source": [
    "betko56 = np.random.randint(10, 100, 56)\n",
    "betko56"
   ]
  },
  {
   "cell_type": "code",
   "execution_count": 17,
   "metadata": {},
   "outputs": [
    {
     "data": {
      "text/plain": [
       "array([[78, 91, 25, 22, 78, 97, 20],\n",
       "       [13, 58, 41, 36, 29, 86, 63],\n",
       "       [75, 32, 98, 33, 57, 51, 11],\n",
       "       [92, 17, 54, 99, 72, 34, 28],\n",
       "       [37, 53, 51, 21, 52, 78, 45],\n",
       "       [29, 80, 45, 40, 42, 26, 66],\n",
       "       [71, 53, 95, 64, 29, 93, 61],\n",
       "       [42, 63, 92, 14, 46, 16, 68]])"
      ]
     },
     "execution_count": 17,
     "metadata": {},
     "output_type": "execute_result"
    }
   ],
   "source": [
    "betko8x7 = betko56.reshape(8, 7)\n",
    "betko8x7"
   ]
  },
  {
   "cell_type": "code",
   "execution_count": 18,
   "metadata": {},
   "outputs": [
    {
     "data": {
      "text/plain": [
       "array([[78, 13, 75, 92, 37, 29, 71, 42],\n",
       "       [91, 58, 32, 17, 53, 80, 53, 63],\n",
       "       [25, 41, 98, 54, 51, 45, 95, 92],\n",
       "       [22, 36, 33, 99, 21, 40, 64, 14],\n",
       "       [78, 29, 57, 72, 52, 42, 29, 46],\n",
       "       [97, 86, 51, 34, 78, 26, 93, 16],\n",
       "       [20, 63, 11, 28, 45, 66, 61, 68]])"
      ]
     },
     "execution_count": 18,
     "metadata": {},
     "output_type": "execute_result"
    }
   ],
   "source": [
    "betko7x8 = betko8x7.transpose()\n",
    "betko7x8"
   ]
  },
  {
   "cell_type": "code",
   "execution_count": 19,
   "metadata": {},
   "outputs": [
    {
     "data": {
      "text/plain": [
       "array([78, 13, 75, 92, 37, 29, 71, 42, 91, 58, 32, 17, 53, 80, 53, 63, 25,\n",
       "       41, 98, 54, 51, 45, 95, 92, 22, 36, 33, 99, 21, 40, 64, 14, 78, 29,\n",
       "       57, 72, 52, 42, 29, 46, 97, 86, 51, 34, 78, 26, 93, 16, 20, 63, 11,\n",
       "       28, 45, 66, 61, 68])"
      ]
     },
     "execution_count": 19,
     "metadata": {},
     "output_type": "execute_result"
    }
   ],
   "source": [
    "betko7x8.reshape(56)"
   ]
  },
  {
   "cell_type": "code",
   "execution_count": 20,
   "metadata": {},
   "outputs": [
    {
     "name": "stdout",
     "output_type": "stream",
     "text": [
      "829083:-5.04763473597665, 764393:4.775467298488\n"
     ]
    }
   ],
   "source": [
    "daug_betko = np.random.randn(1000, 1000)\n",
    "print(f\"{daug_betko.argmin()}:{daug_betko.min()}, {daug_betko.argmax()}:{daug_betko.max()}\")"
   ]
  },
  {
   "cell_type": "code",
   "execution_count": 21,
   "metadata": {},
   "outputs": [
    {
     "name": "stdout",
     "output_type": "stream",
     "text": [
      "(1000, 1000) float64\n"
     ]
    }
   ],
   "source": [
    "print(daug_betko.shape, daug_betko.dtype)"
   ]
  },
  {
   "cell_type": "code",
   "execution_count": 22,
   "metadata": {},
   "outputs": [
    {
     "name": "stdout",
     "output_type": "stream",
     "text": [
      "[3 3 8 2 2 2 5 1 7 8]\n",
      "3 2 [2 5 1 7]\n"
     ]
    }
   ],
   "source": [
    "betko10 = np.random.randint(1, 10, 10)\n",
    "print(betko10)\n",
    "print(betko10[0], betko10[3], betko10[5:9])"
   ]
  },
  {
   "cell_type": "code",
   "execution_count": 23,
   "metadata": {},
   "outputs": [
    {
     "name": "stdout",
     "output_type": "stream",
     "text": [
      "[8 7 1 5 2 2 2 8 3 3]\n"
     ]
    }
   ],
   "source": [
    "print(betko10[::-1])"
   ]
  },
  {
   "cell_type": "code",
   "execution_count": 24,
   "metadata": {},
   "outputs": [
    {
     "name": "stdout",
     "output_type": "stream",
     "text": [
      "[1 5]\n"
     ]
    }
   ],
   "source": [
    "print(betko10[-3:5:-1])"
   ]
  },
  {
   "cell_type": "code",
   "execution_count": 25,
   "metadata": {},
   "outputs": [
    {
     "name": "stdout",
     "output_type": "stream",
     "text": [
      "[0 3 0 2 0 2 0 1 0 8]\n"
     ]
    }
   ],
   "source": [
    "betko10[::2] = 0\n",
    "print(betko10)"
   ]
  },
  {
   "cell_type": "code",
   "execution_count": 26,
   "metadata": {},
   "outputs": [
    {
     "name": "stdout",
     "output_type": "stream",
     "text": [
      "[[78 13 75 92 37 29 71]\n",
      " [91 58 32 17 53 80 53]\n",
      " [25 41 98 54 51 45 95]\n",
      " [22 36 33 99 21 40 64]\n",
      " [78 29 57 72 52 42 29]\n",
      " [97 86 51 34 78 26 93]\n",
      " [20 63 11 28 45 66 61]] (7, 7) 99\n"
     ]
    }
   ],
   "source": [
    "betko7x7 = betko7x8[:, :7]\n",
    "print(betko7x7, betko7x7.shape, betko7x7[3, 3])"
   ]
  },
  {
   "cell_type": "code",
   "execution_count": 27,
   "metadata": {},
   "outputs": [
    {
     "name": "stdout",
     "output_type": "stream",
     "text": [
      "[[98 54 51]\n",
      " [33 99 21]\n",
      " [57 72 52]]\n"
     ]
    }
   ],
   "source": [
    "print(betko7x7[2:5, 2:5])"
   ]
  },
  {
   "cell_type": "code",
   "execution_count": 28,
   "metadata": {},
   "outputs": [
    {
     "name": "stdout",
     "output_type": "stream",
     "text": [
      "[[ True False  True  True False False  True]\n",
      " [ True  True False False  True  True  True]\n",
      " [False False  True  True  True False  True]\n",
      " [False False False  True False False  True]\n",
      " [ True False  True  True  True False False]\n",
      " [ True  True  True False  True False  True]\n",
      " [False  True False False False  True  True]]\n"
     ]
    }
   ],
   "source": [
    "senukai = betko7x7 >= 50\n",
    "print(senukai)"
   ]
  },
  {
   "cell_type": "code",
   "execution_count": 29,
   "metadata": {},
   "outputs": [
    {
     "name": "stdout",
     "output_type": "stream",
     "text": [
      "[78 75 92 71 91 58 53 80 53 98 54 51 95 99 64 78 57 72 52 97 86 51 78 93\n",
      " 63 66 61] (27,)\n"
     ]
    }
   ],
   "source": [
    "print(betko7x7[senukai], betko7x7[senukai].shape)"
   ]
  },
  {
   "cell_type": "code",
   "execution_count": 30,
   "metadata": {},
   "outputs": [
    {
     "data": {
      "text/plain": [
       "(array([13, 37, 29, 32, 17, 25, 41, 45, 22, 36, 33, 21, 40, 29, 42, 29, 34,\n",
       "        26, 20, 11, 28, 45]),\n",
       " (22,))"
      ]
     },
     "execution_count": 30,
     "metadata": {},
     "output_type": "execute_result"
    }
   ],
   "source": [
    "betko7x7[betko7x7 < 50], betko7x7[betko7x7 < 50].shape"
   ]
  },
  {
   "cell_type": "code",
   "execution_count": 31,
   "metadata": {},
   "outputs": [
    {
     "name": "stdout",
     "output_type": "stream",
     "text": [
      "[[78 13 75 92 37 29 71]\n",
      " [91 58 32 17 53 80 53]\n",
      " [25 41 77 77 77 45 95]\n",
      " [22 36 77 77 77 40 64]\n",
      " [78 29 77 77 77 42 29]\n",
      " [97 86 51 34 78 26 93]\n",
      " [20 63 11 28 45 66 61]]\n"
     ]
    }
   ],
   "source": [
    "betko7x7[2:5, 2:5] = 77\n",
    "print(betko7x7)"
   ]
  },
  {
   "cell_type": "code",
   "execution_count": 32,
   "metadata": {},
   "outputs": [
    {
     "data": {
      "text/plain": [
       "array([[78, 91, 25, 22, 78, 97, 20],\n",
       "       [13, 58, 41, 36, 29, 86, 63],\n",
       "       [75, 32, 77, 77, 77, 51, 11],\n",
       "       [92, 17, 77, 77, 77, 34, 28],\n",
       "       [37, 53, 77, 77, 77, 78, 45],\n",
       "       [29, 80, 45, 40, 42, 26, 66],\n",
       "       [71, 53, 95, 64, 29, 93, 61],\n",
       "       [42, 63, 92, 14, 46, 16, 68]])"
      ]
     },
     "execution_count": 32,
     "metadata": {},
     "output_type": "execute_result"
    }
   ],
   "source": [
    "betko8x7"
   ]
  },
  {
   "cell_type": "code",
   "execution_count": 33,
   "metadata": {},
   "outputs": [
    {
     "data": {
      "text/plain": [
       "array([[77, 77, 77],\n",
       "       [77, 77, 77],\n",
       "       [77, 77, 77]])"
      ]
     },
     "execution_count": 33,
     "metadata": {},
     "output_type": "execute_result"
    }
   ],
   "source": [
    "septyni7 = betko7x7[2:5, 2:5].copy()\n",
    "septyni7"
   ]
  },
  {
   "cell_type": "code",
   "execution_count": 34,
   "metadata": {},
   "outputs": [
    {
     "data": {
      "text/plain": [
       "array([[78, 13, 75, 92, 37, 29, 71, 42],\n",
       "       [91, 58, 32, 17, 53, 80, 53, 63],\n",
       "       [25, 41, 15, 30, 35, 45, 95, 92],\n",
       "       [22, 36, 52, 73, 83, 40, 64, 14],\n",
       "       [78, 29, 70, 75, 77, 42, 29, 46],\n",
       "       [97, 86, 51, 34, 78, 26, 93, 16],\n",
       "       [20, 63, 11, 28, 45, 66, 61, 68]])"
      ]
     },
     "execution_count": 34,
     "metadata": {},
     "output_type": "execute_result"
    }
   ],
   "source": [
    "betko7x7[2:5, 2:5] = np.random.randint(10, 100, (3, 3))\n",
    "betko7x8"
   ]
  },
  {
   "cell_type": "code",
   "execution_count": 35,
   "metadata": {},
   "outputs": [
    {
     "data": {
      "text/plain": [
       "array([[77, 77, 77],\n",
       "       [77, 77, 77],\n",
       "       [77, 77, 77]])"
      ]
     },
     "execution_count": 35,
     "metadata": {},
     "output_type": "execute_result"
    }
   ],
   "source": [
    "septyni7"
   ]
  },
  {
   "cell_type": "markdown",
   "metadata": {},
   "source": [
    "# Matematika"
   ]
  },
  {
   "cell_type": "code",
   "execution_count": 36,
   "metadata": {},
   "outputs": [
    {
     "name": "stdout",
     "output_type": "stream",
     "text": [
      "[[100 100 100]\n",
      " [100 100 100]\n",
      " [100 100 100]]\n"
     ]
    }
   ],
   "source": [
    "simtukai = septyni7 + 23\n",
    "print(simtukai)"
   ]
  },
  {
   "cell_type": "code",
   "execution_count": 37,
   "metadata": {},
   "outputs": [
    {
     "data": {
      "text/plain": [
       "array([[123, 123, 123],\n",
       "       [123, 123, 123],\n",
       "       [123, 123, 123]])"
      ]
     },
     "execution_count": 37,
     "metadata": {},
     "output_type": "execute_result"
    }
   ],
   "source": [
    "simtukai += 23\n",
    "simtukai"
   ]
  },
  {
   "cell_type": "code",
   "execution_count": 38,
   "metadata": {},
   "outputs": [
    {
     "data": {
      "text/plain": [
       "array([[200, 200, 200],\n",
       "       [200, 200, 200],\n",
       "       [200, 200, 200]])"
      ]
     },
     "execution_count": 38,
     "metadata": {},
     "output_type": "execute_result"
    }
   ],
   "source": [
    "simtukai + septyni7"
   ]
  },
  {
   "cell_type": "code",
   "execution_count": 39,
   "metadata": {},
   "outputs": [
    {
     "data": {
      "text/plain": [
       "array([[1.5974026, 1.5974026, 1.5974026],\n",
       "       [1.5974026, 1.5974026, 1.5974026],\n",
       "       [1.5974026, 1.5974026, 1.5974026]])"
      ]
     },
     "execution_count": 39,
     "metadata": {},
     "output_type": "execute_result"
    }
   ],
   "source": [
    "simtukai / septyni7"
   ]
  },
  {
   "cell_type": "code",
   "execution_count": 40,
   "metadata": {},
   "outputs": [
    {
     "data": {
      "text/plain": [
       "array([[        474552,      815730721, 13348388671875],\n",
       "       [          8281,         195112,          32768],\n",
       "       [     244140625,      115856201,      170859375],\n",
       "       [           484,        1679616,    19770609664],\n",
       "       [          6084,            841,     1680700000],\n",
       "       [  832972004929,   404567235136,           2601],\n",
       "       [      64000000,    62523502209,           1331]])"
      ]
     },
     "execution_count": 40,
     "metadata": {},
     "output_type": "execute_result"
    }
   ],
   "source": [
    "random77 = betko7x7 ** np.random.randint(2, 10, (7, 7))\n",
    "random77[:, :3]"
   ]
  }
 ],
 "metadata": {
  "kernelspec": {
   "display_name": "Python 3",
   "language": "python",
   "name": "python3"
  },
  "language_info": {
   "codemirror_mode": {
    "name": "ipython",
    "version": 3
   },
   "file_extension": ".py",
   "mimetype": "text/x-python",
   "name": "python",
   "nbconvert_exporter": "python",
   "pygments_lexer": "ipython3",
   "version": "3.12.1"
  },
  "vscode": {
   "interpreter": {
    "hash": "aee8b7b246df8f9039afb4144a1f6fd8d2ca17a180786b69acc140d282b71a49"
   }
  }
 },
 "nbformat": 4,
 "nbformat_minor": 2
}
